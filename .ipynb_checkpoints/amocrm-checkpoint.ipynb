{
 "cells": [
  {
   "cell_type": "markdown",
   "metadata": {},
   "source": [
    "# Получаем данные из Amocrm по API\n",
    "\n",
    "1. Подключаемся впервые\n",
    "2. Обновляем токен доступа\n",
    "3. Получаем данные\n",
    "4. Готовим данные к анализу в Pandas"
   ]
  },
  {
   "cell_type": "code",
   "execution_count": 1,
   "metadata": {},
   "outputs": [],
   "source": [
    "import requests\n",
    "import json\n",
    "import os\n",
    "\n",
    "from urllib.parse import urlparse, parse_qs, quote, urlencode\n",
    "from dotenv import load_dotenv"
   ]
  },
  {
   "cell_type": "markdown",
   "metadata": {},
   "source": [
    "## Часть 1. Подключаемся в первый раз\n",
    "\n",
    "Начнем с того, что для получения доступа к API, вам нужно иметь агентский доступ к аккаунту. Если доступ есть, идите в настройки кабинета, в раздел API и создавайте новую интеграцию.\n",
    "\n",
    "Инструкция: https://www.amocrm.ru/developers/content/oauth/easy-auth\n",
    "\n",
    "Вам надо получить 3 токена:\n",
    "1. integration id\n",
    "2. secret key\n",
    "3. authentication code\n",
    "\n",
    "Первые два сохраните в окружении. Если не знаете как, сделайте паузу и погуглите `python dotenv`. Authentication code вам понадобится только один раз, его можно запихнуть в переменную."
   ]
  },
  {
   "cell_type": "code",
   "execution_count": null,
   "metadata": {},
   "outputs": [],
   "source": [
    "# Загружаем в переменные полученные токены\n",
    "dotenv_path = '.env'\n",
    "load_dotenv(dotenv_path)\n",
    "\n",
    "amo_secret_key = os.environ.get(\"amo_sercret_key\")\n",
    "amo_integration_id = os.environ.get(\"amo_integration_id\")\n",
    "\n",
    "amo_auth_code='вставьте сюда ваш authentication code'"
   ]
  },
  {
   "cell_type": "code",
   "execution_count": 57,
   "metadata": {},
   "outputs": [],
   "source": [
    "subdomain = '...' # вставьте название вашего поддомента\n",
    "\n",
    "base_url = 'https://{}.amocrm.ru'.format(subdomain)"
   ]
  },
  {
   "cell_type": "code",
   "execution_count": 6,
   "metadata": {},
   "outputs": [],
   "source": [
    "def get_tokens(base_url, client_id, clien_secret, auth_code):\n",
    "    \"\"\"Gets auth tokens for Amocrm\"\"\"\n",
    "        \n",
    "    endpoint = '/oauth2/access_token'\n",
    "    method = 'POST'\n",
    "\n",
    "    headers = {\n",
    "        'User-Agent': 'amoCRM-oAuth-client/1.0'\n",
    "    }\n",
    " \n",
    "    params = {\n",
    "        'client_id': client_id,\n",
    "        'client_secret': clien_secret,\n",
    "        'grant_type': 'authorization_code',\n",
    "        'code': auth_code,\n",
    "        'redirect_uri': 'https://smysl.io'\n",
    "    }\n",
    "    res = requests.post(url=base_url+endpoint, data=params, headers=headers)\n",
    "    return json.loads(res.text)"
   ]
  },
  {
   "cell_type": "code",
   "execution_count": null,
   "metadata": {},
   "outputs": [],
   "source": [
    "def write_to_env(refresh_token, var_name='amo_refresh_token', dotenv_path='.env'):\n",
    "    \"\"\"Writes to a .env file\"\"\"\n",
    "    \n",
    "    with open(dotenv_path, 'r') as f:\n",
    "        lines = f.readlines()\n",
    "        d = {k: v for k, v in [l.replace('\\n','').split('=') for l in lines]}    \n",
    "        d[var_name] = refresh_token\n",
    "    to_write = [k + '=' + v for k, v in d.items()]\n",
    "    \n",
    "    with open(dotenv_path, 'w') as f:\n",
    "        for l in to_write:\n",
    "            f.write(l + '\\n')"
   ]
  },
  {
   "cell_type": "code",
   "execution_count": 7,
   "metadata": {},
   "outputs": [],
   "source": [
    "# получаем токен впервые\n",
    "creds = get_tokens(base_url, amo_integration_id, amo_secret_key, amo_auth_code)\n",
    "\n",
    "# сразу же сохраняем refresh_token в окружении - он нам понадобится\n",
    "write_to_env(creds['refresh_token'])"
   ]
  },
  {
   "cell_type": "markdown",
   "metadata": {},
   "source": [
    "## Часть 2. Освежаем access_token\n",
    "\n",
    "В конце прошлой части мы получили access_token и refresh_token (они записаны в переменной creds). В принципе, уже тогда можно было начинать работать с API. Но есть проблема — access_token будет работать всего 24 часа. Потом его надо обновить.\n",
    "\n",
    "Для этого в Amocrm есть refresh_token и специальный запрос к API. Отправлем refresh_token, а взамен получаем новый access_token и новый refresh_token. Старый можно выбросить, он больше не будет работать. \n",
    "\n",
    "Код из первой части вам нужен только один раз, чтобы получить токен впервые, то этот код надо запускать каждый раз, когда садитесь работать."
   ]
  },
  {
   "cell_type": "code",
   "execution_count": 100,
   "metadata": {},
   "outputs": [],
   "source": [
    "# Загружаем токен и настраиваем запрос\n",
    "amo_refresh_token = os.environ.get(\"amo_refresh_token\")\n",
    "\n",
    "subdomain = '...' # вставьте название вашего поддомента\n",
    "base_url = 'https://{}.amocrm.ru'.format(subdomain)"
   ]
  },
  {
   "cell_type": "code",
   "execution_count": 91,
   "metadata": {},
   "outputs": [],
   "source": [
    "def refresh_tokens(base_url, client_id, clien_secret, refresh_token):\n",
    "    \"\"\"Refresh access and refresh tokens in Amocrm\"\"\"\n",
    "        \n",
    "    endpoint = '/oauth2/access_token'\n",
    "    method = 'POST'\n",
    "\n",
    "    headers = {\n",
    "        'User-Agent': 'amoCRM-oAuth-client/1.0'\n",
    "    }\n",
    " \n",
    "    params = {\n",
    "        'client_id': client_id,\n",
    "        'client_secret': clien_secret,\n",
    "        'grant_type': 'refresh_token',\n",
    "        'refresh_token': refresh_token,\n",
    "        'redirect_uri': 'https://smysl.io'\n",
    "    }\n",
    "    res = requests.post(url=base_url+endpoint, data=params, headers=headers)\n",
    "    return json.loads(res.text)"
   ]
  },
  {
   "cell_type": "code",
   "execution_count": 95,
   "metadata": {},
   "outputs": [],
   "source": [
    "# освежаем токены и сразу записываем новый refresh_token обратно в .env\n",
    "creds = refresh_tokens(base_url, amo_integration_id, amo_secret_key, amo_refresh_token)\n",
    "write_to_env(creds['refresh_token'])"
   ]
  },
  {
   "cell_type": "markdown",
   "metadata": {},
   "source": [
    "## Часть 3. Работаем с API\n",
    "\n",
    "Все, доступ есть, теперь, наконец, можно начать работать. Ниже - несколько примеров запросов к API. \n",
    "\n",
    "Подробнее - в инструкции https://www.amocrm.ru/developers/content/api/account"
   ]
  },
  {
   "cell_type": "code",
   "execution_count": 96,
   "metadata": {},
   "outputs": [],
   "source": [
    "access_token = creds['access_token']\n",
    "refresh_token = creds['refresh_token']"
   ]
  },
  {
   "cell_type": "code",
   "execution_count": 97,
   "metadata": {},
   "outputs": [],
   "source": [
    "# Получаем информацию об аккаунте\n",
    "\n",
    "endpoint = '/api/v2/account'\n",
    "method = 'GET'\n",
    "\n",
    "headers = {\n",
    "    'User-Agent': 'amoCRM-oAuth-client/1.0',\n",
    "    'Authorization': 'Bearer {}'.format(access_token)\n",
    "}\n",
    "\n",
    "res = requests.get(url=base_url+endpoint, headers=headers)"
   ]
  },
  {
   "cell_type": "code",
   "execution_count": 60,
   "metadata": {
    "scrolled": true
   },
   "outputs": [],
   "source": [
    "# Получаем информацию о сделках\n",
    "\n",
    "clean_leads = []\n",
    "ids = set()\n",
    "i = 0\n",
    "\n",
    "endpoint = '/api/v2/leads'\n",
    "method = 'GET'\n",
    "\n",
    "headers = {\n",
    "    'User-Agent': 'amoCRM-oAuth-client/1.0',\n",
    "    'Authorization': 'Bearer {}'.format(access_token)\n",
    "}"
   ]
  },
  {
   "cell_type": "code",
   "execution_count": null,
   "metadata": {},
   "outputs": [],
   "source": [
    "# Вот так, например, можно выгрузить информацию о всех сделках. \n",
    "# Это не самый элегантный код, в продакшн его лучше не выкатывать,\n",
    "# но со своей задачей он справляется.\n",
    "\n",
    "while True:\n",
    "    params = {\n",
    "        'limit_rows': 500,\n",
    "        'limit_offset': i\n",
    "    }\n",
    "\n",
    "    res = requests.get(url=base_url+endpoint, params=params, headers=headers)\n",
    "    try:\n",
    "        new_leads = json.loads(res.text)\n",
    "        for lead in new_leads['_embedded']['items']:\n",
    "            if lead['id'] not in ids:\n",
    "                ids.add(lead['id'])\n",
    "                clean_leads.append(lead)\n",
    "        i += 500\n",
    "    except:\n",
    "        print('Done')\n",
    "        break\n"
   ]
  },
  {
   "cell_type": "markdown",
   "metadata": {},
   "source": [
    "## Часть 4. Превращаем полученные данные в таблицы и готовим их к анализу\n",
    "\n",
    "API Amocrm возвращает нам наборы json-ов. Это не очень удобно для анализа. Другое дело таблицы!\n",
    "\n",
    "Покажу, как можно информацию о сделках перевести в датафрейм."
   ]
  },
  {
   "cell_type": "code",
   "execution_count": 26,
   "metadata": {},
   "outputs": [],
   "source": [
    "import pandas as pd\n",
    "from datetime import timedelta, date"
   ]
  },
  {
   "cell_type": "code",
   "execution_count": 83,
   "metadata": {},
   "outputs": [],
   "source": [
    "# В сделке есть куча полей, которые могут быть ненужны для анализа. \n",
    "# А некоторые полезные поля, типа utm-меток, запрятаны в 5-этажные вложенные словари. \n",
    "# Этот код удаляет ненужные поля и достает наружу нужные.\n",
    "\n",
    "def extract_utm(list_of_tags, tag_name):\n",
    "    \"\"\"Extracts a value of the utm-tag of a AMOCrm deal\"\"\"\n",
    "    try:\n",
    "        tag_value = [x for x in list_of_tags if x['name'] == tag_name][0]['values'][0]['value']\n",
    "    except:\n",
    "        tag_value = None\n",
    "    return tag_value\n",
    "data = []\n",
    "\n",
    "for l in clean_leads:\n",
    "    data.append({\n",
    "        'id': l['id'],\n",
    "        'sale': l['sale'],\n",
    "        'name': l['name'],\n",
    "        'created_at': l['created_at'],\n",
    "        'closed_at':  l['closed_at'],\n",
    "        'pipeline_id': l['pipeline_id'],\n",
    "        'status_id':   l['status_id'],\n",
    "        'is_deleted':  l['is_deleted'],\n",
    "        'utm_source':   extract_utm(l['custom_fields'], 'utm_source'),\n",
    "        'utm_medium':   extract_utm(l['custom_fields'], 'utm_campaign'),\n",
    "        'utm_campaign': extract_utm(l['custom_fields'], 'utm_medium'),\n",
    "        'loss_reason_id': l['loss_reason_id'],\n",
    "    }\n",
    ")\n"
   ]
  },
  {
   "cell_type": "code",
   "execution_count": 101,
   "metadata": {},
   "outputs": [],
   "source": [
    "# Ну и последнй шаг самый простой — просто конвертируем список словарей в датафрейм.\n",
    "\n",
    "df = pd.DataFrame(data)\n",
    "df.set_index('id', inplace=True)"
   ]
  },
  {
   "cell_type": "markdown",
   "metadata": {},
   "source": [
    "На этом все. Анализируйте на здоровье.\n",
    "\n",
    "P.S. Спасибо [сообществу Digital God](https://digitalgod.be/) за помощь в подготовке."
   ]
  },
  {
   "cell_type": "code",
   "execution_count": null,
   "metadata": {},
   "outputs": [],
   "source": []
  }
 ],
 "metadata": {
  "kernelspec": {
   "display_name": "Python 3",
   "language": "python",
   "name": "python3"
  },
  "language_info": {
   "codemirror_mode": {
    "name": "ipython",
    "version": 3
   },
   "file_extension": ".py",
   "mimetype": "text/x-python",
   "name": "python",
   "nbconvert_exporter": "python",
   "pygments_lexer": "ipython3",
   "version": "3.8.0"
  }
 },
 "nbformat": 4,
 "nbformat_minor": 4
}
